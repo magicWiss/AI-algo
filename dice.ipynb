{
  "nbformat": 4,
  "nbformat_minor": 0,
  "metadata": {
    "colab": {
      "provenance": [],
      "authorship_tag": "ABX9TyPdYqVP7EfSy/z7LsuMwnzG",
      "include_colab_link": true
    },
    "kernelspec": {
      "name": "python3",
      "display_name": "Python 3"
    },
    "language_info": {
      "name": "python"
    }
  },
  "cells": [
    {
      "cell_type": "markdown",
      "metadata": {
        "id": "view-in-github",
        "colab_type": "text"
      },
      "source": [
        "<a href=\"https://colab.research.google.com/github/magicWiss/AI-algo/blob/main/dice.ipynb\" target=\"_parent\"><img src=\"https://colab.research.google.com/assets/colab-badge.svg\" alt=\"Open In Colab\"/></a>"
      ]
    },
    {
      "cell_type": "code",
      "execution_count": null,
      "metadata": {
        "id": "2MyCFEwSQ9x9"
      },
      "outputs": [],
      "source": []
    },
    {
      "cell_type": "markdown",
      "source": [
        "#Lancio dado\n"
      ],
      "metadata": {
        "id": "VUUHjpadQ_Ha"
      }
    },
    {
      "cell_type": "code",
      "source": [
        "import numpy as np\n",
        "import random\n",
        "\n"
      ],
      "metadata": {
        "id": "suygdnriRBUQ"
      },
      "execution_count": 1,
      "outputs": []
    },
    {
      "cell_type": "code",
      "source": [
        "def throw():\n",
        "\n",
        "  x = random.randint(2,12)\n",
        "  return x\n",
        "\n",
        "def getStats():\n",
        "\n",
        "  count=0\n",
        "  tot=1000\n",
        "  faccia2count={}\n",
        "  while count<tot:\n",
        "    esito=throw()\n",
        "    if esito not in faccia2count:\n",
        "      faccia2count[esito]=1\n",
        "\n",
        "    else:\n",
        "      faccia2count[esito]+=1\n",
        "    count+=1\n",
        "\n",
        "  for k in faccia2count:\n",
        "    print('faccia: ', k, 'prob: ',(faccia2count[k]/tot)*100)"
      ],
      "metadata": {
        "id": "3X5hOsmIRRUj"
      },
      "execution_count": 17,
      "outputs": []
    },
    {
      "cell_type": "code",
      "source": [
        "getStats()"
      ],
      "metadata": {
        "colab": {
          "base_uri": "https://localhost:8080/"
        },
        "id": "BBE4glj-SZb4",
        "outputId": "ed7b33b9-d1cc-4663-84b7-69939a19efc7"
      },
      "execution_count": 18,
      "outputs": [
        {
          "output_type": "stream",
          "name": "stdout",
          "text": [
            "faccia:  5 prob:  9.2\n",
            "faccia:  7 prob:  8.0\n",
            "faccia:  6 prob:  10.100000000000001\n",
            "faccia:  4 prob:  10.4\n",
            "faccia:  2 prob:  8.5\n",
            "faccia:  3 prob:  10.6\n",
            "faccia:  11 prob:  10.8\n",
            "faccia:  10 prob:  7.3\n",
            "faccia:  9 prob:  7.6\n",
            "faccia:  8 prob:  9.3\n",
            "faccia:  12 prob:  8.200000000000001\n"
          ]
        }
      ]
    }
  ]
}