{
 "cells": [
  {
   "cell_type": "markdown",
   "metadata": {},
   "source": [
    "# Algoritmo Best-First Search\n",
    "Versione Tree Search per la mappa della Romania utilizzando la priority queue built-in."
   ]
  },
  {
   "cell_type": "markdown",
   "metadata": {},
   "source": [
    "## Grafo degli Stati"
   ]
  },
  {
   "cell_type": "code",
   "execution_count": 1,
   "metadata": {},
   "outputs": [],
   "source": [
    "# connessioni tra città\n",
    "\n",
    "connections = {}\n",
    "\n",
    "connections['Arad'] = {'Sibiu', 'Timisoara', 'Zerind'}\n",
    "connections['Bucarest'] = {'Fagaras', 'Giurgiu', 'Pitesti', 'Urziceni'}\n",
    "connections['Craiova'] = {'Drobeta', 'Pitesti', 'Rimnicu Vilcea'}\n",
    "connections['Drobeta'] = {'Craiova', 'Mehadia'}\n",
    "connections['Eforie'] = {'Hirsova'}\n",
    "connections['Fagaras'] = {'Bucarest', 'Sibiu'}\n",
    "connections['Giurgiu'] = {'Bucarest'}\n",
    "connections['Hirsova'] = {'Eforie', 'Urziceni'}\n",
    "connections['Iasi'] = {'Neamt', 'Vaslui'}\n",
    "connections['Lugoj'] = {'Mehadia', 'Timisoara'}\n",
    "connections['Mehadia'] = {'Drobeta', 'Lugoj'}\n",
    "connections['Neamt'] = {'Iasi'}\n",
    "connections['Oradea'] = {'Sibiu', 'Zerind'}\n",
    "connections['Pitesti'] = {'Bucarest', 'Craiova', 'Rimnicu Vilcea'}\n",
    "connections['Rimnicu Vilcea'] = {'Craiova', 'Pitesti', 'Sibiu'}\n",
    "connections['Sibiu'] = {'Arad', 'Fagaras', 'Oradea', 'Rimnicu Vilcea'}\n",
    "connections['Timisoara'] = {'Arad', 'Lugoj'}\n",
    "connections['Urziceni'] = {'Bucarest', 'Hirsova', 'Vaslui'}\n",
    "connections['Vaslui'] = {'Iasi', 'Urziceni'}\n",
    "connections['Zerind'] = {'Arad', 'Oradea'}"
   ]
  },
  {
   "cell_type": "markdown",
   "metadata": {},
   "source": [
    "## Funzione euristica h"
   ]
  },
  {
   "cell_type": "code",
   "execution_count": 2,
   "metadata": {},
   "outputs": [],
   "source": [
    "# distanza in linea d'aria tra ogni città e l'obiettivo 'Bucarest'\n",
    "\n",
    "h = {}\n",
    "h['Arad'] = 366\n",
    "h['Bucarest'] = 0\n",
    "h['Craiova'] = 160\n",
    "h['Drobeta'] = 242\n",
    "h['Eforie'] = 161\n",
    "h['Fagaras'] = 176\n",
    "h['Giurgiu'] = 77\n",
    "h['Hirsova'] = 151\n",
    "h['Iasi'] = 226\n",
    "h['Lugoj'] = 244\n",
    "h['Mehadia'] = 241\n",
    "h['Neamt'] = 234\n",
    "h['Oradea'] = 380\n",
    "h['Pitesti'] = 100\n",
    "h['Rimnicu Vilcea'] = 193\n",
    "h['Sibiu'] = 253\n",
    "h['Timisoara'] = 329\n",
    "h['Urziceni'] = 80\n",
    "h['Vaslui'] = 199\n",
    "h['Zerind'] = 374"
   ]
  },
  {
   "cell_type": "markdown",
   "metadata": {},
   "source": [
    "## Classe Node"
   ]
  },
  {
   "cell_type": "code",
   "execution_count": 3,
   "metadata": {},
   "outputs": [],
   "source": [
    "class Node:\n",
    "    \n",
    "    def __init__(self, state, parent, h):\n",
    "        \n",
    "        self.state = state\n",
    "        self.depth = 0\n",
    "        self.children = []\n",
    "        self.parent = parent\n",
    "        self.heuristic = h\n",
    "        \n",
    "        \n",
    "    def addChild(self, childNode):\n",
    "        \"\"\"\n",
    "        Questo metodo aggiunge un nodo sotto un altro nodo\n",
    "        \"\"\"\n",
    "        self.children.append(childNode)\n",
    "        childNode.parent = self\n",
    "        childNode.depth = self.depth + 1\n",
    "        \n",
    "    \n",
    "    def printPath(self):\n",
    "        \"\"\"\n",
    "        Questo metodo stampa il percorso dallo stato iniziale allo stato soluzione\n",
    "        \"\"\"\n",
    "        if self.parent != None:\n",
    "            self.parent.printPath()\n",
    "        print(\"-> \", self.state.name)"
   ]
  },
  {
   "cell_type": "markdown",
   "metadata": {},
   "source": [
    "## Classe State"
   ]
  },
  {
   "cell_type": "code",
   "execution_count": 4,
   "metadata": {},
   "outputs": [],
   "source": [
    "class State:\n",
    "    def __init__(self, name = None):\n",
    "        if name == None:\n",
    "            self.name = self.getInitialState()   # crea stato iniziale\n",
    "        else:\n",
    "            self.name = name\n",
    "            \n",
    "    def getInitialState(state):\n",
    "        initialState = 'Timisoara'\n",
    "        return initialState\n",
    "    \n",
    "    def successorFunction(self):\n",
    "        return connections[self.name]\n",
    "    \n",
    "    def checkGoalState(self):\n",
    "        return self.name == 'Bucarest'"
   ]
  },
  {
   "cell_type": "markdown",
   "metadata": {},
   "source": [
    "## Algoritmo Greedy"
   ]
  },
  {
   "cell_type": "code",
   "execution_count": 5,
   "metadata": {},
   "outputs": [],
   "source": [
    "import queue as Queue"
   ]
  },
  {
   "cell_type": "code",
   "execution_count": 6,
   "metadata": {},
   "outputs": [],
   "source": [
    "def Greedy_Best_First():\n",
    "    \n",
    "    # crea queue\n",
    "    pqueue = Queue.PriorityQueue()\n",
    "    \n",
    "    # crea root node\n",
    "    initialState = State()\n",
    "    # il nodo padre della radice è None\n",
    "    euristica = h[initialState.name]\n",
    "    root = Node(initialState, None, euristica)\n",
    "       \n",
    "    # aggiungi alla priority queue\n",
    "    pqueue.put((root.heuristic, root))\n",
    "    \n",
    "    # verifica se ci sono elementi nella priority queue \n",
    "    while not pqueue.empty(): \n",
    "        \n",
    "        # ottieni il front node dalla priority queue\n",
    "        _, currentNode = pqueue.get()\n",
    "               \n",
    "        print(\"-- dequeue --\", currentNode.state.name)\n",
    "        \n",
    "        # verifica se è lo stato obiettivo\n",
    "        if currentNode.state.checkGoalState():\n",
    "            print(\"Stato obiettivo raggiunto\")\n",
    "            # stampa il percorso trovato\n",
    "            print(\"----------------------\")\n",
    "            print(\"Soluzione:\")\n",
    "            currentNode.printPath()\n",
    "            break\n",
    "                      \n",
    "        # ottieni i nodi figli \n",
    "        childStates = currentNode.state.successorFunction()\n",
    "        for childState in childStates:\n",
    "            euristica = h[childState]\n",
    "            childNode = Node(State(childState), currentNode, euristica)        \n",
    "            \n",
    "            # aggiungi alla queue\n",
    "            currentNode.addChild(childNode)\n",
    "                \n",
    "            # aggiungi alla priority queue\n",
    "            pqueue.put((childNode.heuristic, childNode))"
   ]
  },
  {
   "cell_type": "code",
   "execution_count": 7,
   "metadata": {},
   "outputs": [
    {
     "name": "stdout",
     "output_type": "stream",
     "text": [
      "-- dequeue -- Timisoara\n",
      "-- dequeue -- Lugoj\n",
      "-- dequeue -- Mehadia\n",
      "-- dequeue -- Drobeta\n",
      "-- dequeue -- Craiova\n",
      "-- dequeue -- Pitesti\n",
      "-- dequeue -- Bucarest\n",
      "Stato obiettivo raggiunto\n",
      "----------------------\n",
      "Soluzione:\n",
      "->  Timisoara\n",
      "->  Lugoj\n",
      "->  Mehadia\n",
      "->  Drobeta\n",
      "->  Craiova\n",
      "->  Pitesti\n",
      "->  Bucarest\n"
     ]
    }
   ],
   "source": [
    "Greedy_Best_First()"
   ]
  },
  {
   "cell_type": "code",
   "execution_count": null,
   "metadata": {},
   "outputs": [],
   "source": []
  }
 ],
 "metadata": {
  "kernelspec": {
   "display_name": "Python 3 (ipykernel)",
   "language": "python",
   "name": "python3"
  },
  "language_info": {
   "codemirror_mode": {
    "name": "ipython",
    "version": 3
   },
   "file_extension": ".py",
   "mimetype": "text/x-python",
   "name": "python",
   "nbconvert_exporter": "python",
   "pygments_lexer": "ipython3",
   "version": "3.7.7"
  }
 },
 "nbformat": 4,
 "nbformat_minor": 2
}
