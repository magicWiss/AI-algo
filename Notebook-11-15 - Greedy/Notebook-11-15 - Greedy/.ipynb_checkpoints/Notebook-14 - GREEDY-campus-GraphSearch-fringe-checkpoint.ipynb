{
 "cells": [
  {
   "cell_type": "markdown",
   "metadata": {},
   "source": [
    "# Greedy Best-First Algorithm\n",
    "Versione Graph Search per la mappa del campus"
   ]
  },
  {
   "cell_type": "markdown",
   "metadata": {},
   "source": [
    "## Grafo degli Stati"
   ]
  },
  {
   "cell_type": "code",
   "execution_count": 1,
   "metadata": {},
   "outputs": [],
   "source": [
    "# connessioni tra stati\n",
    "\n",
    "connections = {}\n",
    "connections[\"Bus Stop\"] = {\"Library\"}\n",
    "connections[\"Library\"] = {\"Bus Stop\", \"Car Park\", \"Student Center\"}\n",
    "connections[\"Car Park\"] = {\"Library\", \"Maths Building\", \"Store\"}\n",
    "connections[\"Maths Building\"] = {\"Car Park\", \"Canteen\"}\n",
    "connections[\"Student Center\"] = {\"Library\", \"Store\" , \"Theater\"}\n",
    "connections[\"Store\"] = {\"Student Center\", \"Car Park\", \"Canteen\", \"Sports Center\"}\n",
    "connections[\"Canteen\"] = {\"Maths Building\", \"Store\", \"AI Lab\"}\n",
    "connections[\"AI Lab\"] = {\"Canteen\"}\n",
    "connections[\"Theater\"] = {\"Student Center\", \"Sports Center\"}\n",
    "connections[\"Sports Center\"] = {\"Theater\", \"Store\"}"
   ]
  },
  {
   "cell_type": "markdown",
   "metadata": {},
   "source": [
    "## Funzione euristica h"
   ]
  },
  {
   "cell_type": "code",
   "execution_count": 2,
   "metadata": {},
   "outputs": [],
   "source": [
    "# distanza in linea d'aria tra i vari stati e lo stato obiettivo 'AI Lab'\n",
    "\n",
    "h = {}\n",
    "h[\"Bus Stop\"] = 8.9\n",
    "h[\"Library\"] = 8.2\n",
    "h[\"Car Park\"] = 6.4\n",
    "h[\"Maths Building\"] = 2.2\n",
    "h[\"Student Center\"] = 8.0\n",
    "h[\"Store\"] = 4.0\n",
    "h[\"Canteen\"] = 1.0\n",
    "h[\"AI Lab\"] = 0.0\n",
    "h[\"Theater\"] = 7.1\n",
    "h[\"Sports Center\"] = 5.1"
   ]
  },
  {
   "cell_type": "code",
   "execution_count": 3,
   "metadata": {},
   "outputs": [],
   "source": [
    "class Node:\n",
    "    \n",
    "    def __init__(self, state, parent, h):\n",
    "        \"\"\"\n",
    "        Construttore\n",
    "        \"\"\"\n",
    "        self.state = state\n",
    "        self.depth = 0\n",
    "        self.children = []\n",
    "        self.parent = parent\n",
    "        self.heuristic = h\n",
    "        \n",
    "        \n",
    "    def addChild(self, childNode):\n",
    "        \"\"\"\n",
    "        Questo metodo aggiunge un nodo sotto un altro nodo\n",
    "        \"\"\"\n",
    "        self.children.append(childNode)\n",
    "        childNode.parent = self\n",
    "        childNode.depth = self.depth + 1\n",
    "        \n",
    "    \n",
    "    def printPath(self):\n",
    "        \"\"\"\n",
    "        Questo metodo stampa il percorso dallo stato iniziale allo stato obiettivo\n",
    "        \"\"\"\n",
    "        if self.parent != None:\n",
    "            self.parent.printPath()\n",
    "        print(\"-> \", self.state.name)"
   ]
  },
  {
   "cell_type": "code",
   "execution_count": 4,
   "metadata": {},
   "outputs": [],
   "source": [
    "class State:\n",
    "    \n",
    "    def __init__(self, name = None):\n",
    "        if name == None:\n",
    "            self.name = self.getInitialState()   # crea lo stato iniziale\n",
    "        else:\n",
    "            self.name = name\n",
    "            \n",
    "    def getInitialState(state):\n",
    "        initialState = 'Bus Stop'\n",
    "        return initialState\n",
    "    \n",
    "    def successorFunction(self):\n",
    "       # lista = connections[self.name]\n",
    "        # return lista\n",
    "        return connections[self.name]\n",
    "    \n",
    "    def checkGoalState(self):\n",
    "        return self.name == 'AI Lab'"
   ]
  },
  {
   "cell_type": "markdown",
   "metadata": {},
   "source": [
    "## Classe Elem (per gli elementi della fringe)"
   ]
  },
  {
   "cell_type": "code",
   "execution_count": 5,
   "metadata": {},
   "outputs": [],
   "source": [
    "class Elem:\n",
    "    val = None\n",
    "    node = None\n",
    "    next = None\n",
    "    \n",
    "    def __init__(self, val, nodo):\n",
    "        self.val = val\n",
    "        self.node = nodo\n",
    "        self.next = None\n",
    "       "
   ]
  },
  {
   "cell_type": "markdown",
   "metadata": {},
   "source": [
    "## Classe Fringe (frontiera)"
   ]
  },
  {
   "cell_type": "code",
   "execution_count": 6,
   "metadata": {},
   "outputs": [],
   "source": [
    "class Fringe:\n",
    "#    __head = None\n",
    "#    __tail = None\n",
    "    \n",
    "    def __init__(self):\n",
    "        self.__head = None\n",
    "        self.__tail = None\n",
    "        \n",
    "    def add(self, newNode):\n",
    "        p = self.__head\n",
    "        if (self.__head == None):              # se la lista è vuota ...\n",
    "            self.__head = newNode              # inserisci\n",
    "            self.__tail = self.__head\n",
    "            newNode.next = None\n",
    "\n",
    "        elif (newNode.val > self.__tail.val):  # se il valore è maggiore dell'ultimo ...\n",
    "            self.__tail.next = newNode         # append\n",
    "            self.__tail = newNode\n",
    "            newNode.next = None\n",
    "            \n",
    "        elif newNode.val < self.__head.val:    # se è minore del primo ...\n",
    "            newNode.next = self.__head         # inserisci in testa\n",
    "            self.__head = newNode\n",
    "            \n",
    "        else:\n",
    "            while(p.next != None and (newNode.val > p.next.val)):\n",
    "                p = p.next\n",
    "            newNode.next = p.next\n",
    "            p.next = newNode\n",
    "        \n",
    "                \n",
    "    def estrazione(self):\n",
    "        p = self.__head\n",
    "        if p == None:\n",
    "            return None\n",
    "        self.__head = self.__head.next\n",
    "        p.next = None\n",
    "        return p\n",
    "            \n",
    "    def empty_fringe(self):\n",
    "        if self.__head == None:\n",
    "            return True\n",
    "        else:\n",
    "            return False\n",
    "        \n",
    "    def stampa(self):\n",
    "        print('Head', end = ' ')\n",
    "        p = self.__head\n",
    "        while p!= None:\n",
    "            print(p.node.state.name, '->', end=' ')\n",
    "            p = p.next\n",
    "        print('Tail')\n",
    "        "
   ]
  },
  {
   "cell_type": "markdown",
   "metadata": {},
   "source": [
    "## Algoritmo Greedy"
   ]
  },
  {
   "cell_type": "code",
   "execution_count": 7,
   "metadata": {},
   "outputs": [],
   "source": [
    "def Greedy_Best_First():\n",
    "\n",
    "     # crea la frontiera\n",
    "    fringe = Fringe()\n",
    "       \n",
    "    # crea la visited list\n",
    "    close = []\n",
    "    \n",
    "    # crea lo stato iniziale\n",
    "    initialState = State()\n",
    "   \n",
    "    # crea la radice\n",
    "    euristica = h[initialState.name]    \n",
    "    root = Node(initialState, None, euristica)          # il nodo padre della radice è None\n",
    "       \n",
    "    # aggiungi la radice alla fringe\n",
    "    elemento = Elem(euristica, root)\n",
    "    fringe.add(elemento)\n",
    "    \n",
    "    while not fringe.empty_fringe():                    # se la fringe non è vuota ...\n",
    "\n",
    "        elem_estratto = fringe.estrazione()\n",
    "        currentNode = elem_estratto.node        \n",
    "        \n",
    "        print(\"-- dequeue --\", currentNode.state.name)\n",
    "        \n",
    "        # verifica se questo è lo stato obiettivo\n",
    "        if currentNode.state.checkGoalState():\n",
    "            print(\"Stato obiettivo raggiunto\")\n",
    "            # stampa il percorso trovato\n",
    "            print(\"----------------------\")\n",
    "            print(\"Soluzione:\")\n",
    "            currentNode.printPath()\n",
    "            break\n",
    "            \n",
    "        else:\n",
    "            close.append(currentNode.state.name)\n",
    "                    \n",
    "        # espandi il nodo corrente otenendo i suoi nodi figli \n",
    "        childStates = currentNode.state.successorFunction()\n",
    "        for childState in childStates:\n",
    "            euristica = h[State(childState).name]\n",
    "            childNode = Node(State(childState), currentNode, euristica)  \n",
    "            \n",
    "            # verifica se il nodo figlio non è in close\n",
    "            if childNode.state.name not in close:\n",
    " \n",
    "                # aggiungi il nodo figlio alla lista dei figli del nodo corrente\n",
    "                currentNode.addChild(childNode)\n",
    "                \n",
    "                # aggiungi il nodo figlio alla fringe\n",
    "                elemento = Elem(childNode.heuristic, childNode)\n",
    "                fringe.add(elemento)"
   ]
  },
  {
   "cell_type": "code",
   "execution_count": 8,
   "metadata": {},
   "outputs": [
    {
     "name": "stdout",
     "output_type": "stream",
     "text": [
      "-- dequeue -- Bus Stop\n",
      "-- dequeue -- Library\n",
      "-- dequeue -- Car Park\n",
      "-- dequeue -- Maths Building\n",
      "-- dequeue -- Canteen\n",
      "-- dequeue -- AI Lab\n",
      "Stato obiettivo raggiunto\n",
      "----------------------\n",
      "Soluzione:\n",
      "->  Bus Stop\n",
      "->  Library\n",
      "->  Car Park\n",
      "->  Maths Building\n",
      "->  Canteen\n",
      "->  AI Lab\n"
     ]
    }
   ],
   "source": [
    "Greedy_Best_First()"
   ]
  },
  {
   "cell_type": "code",
   "execution_count": null,
   "metadata": {},
   "outputs": [],
   "source": []
  }
 ],
 "metadata": {
  "kernelspec": {
   "display_name": "Python 3 (ipykernel)",
   "language": "python",
   "name": "python3"
  },
  "language_info": {
   "codemirror_mode": {
    "name": "ipython",
    "version": 3
   },
   "file_extension": ".py",
   "mimetype": "text/x-python",
   "name": "python",
   "nbconvert_exporter": "python",
   "pygments_lexer": "ipython3",
   "version": "3.7.7"
  }
 },
 "nbformat": 4,
 "nbformat_minor": 2
}
