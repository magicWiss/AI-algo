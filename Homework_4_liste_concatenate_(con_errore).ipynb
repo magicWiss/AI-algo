{
  "cells": [
    {
      "cell_type": "markdown",
      "metadata": {
        "id": "view-in-github",
        "colab_type": "text"
      },
      "source": [
        "<a href=\"https://colab.research.google.com/github/magicWiss/AI-algo/blob/main/Homework_4_liste_concatenate_(con_errore).ipynb\" target=\"_parent\"><img src=\"https://colab.research.google.com/assets/colab-badge.svg\" alt=\"Open In Colab\"/></a>"
      ]
    },
    {
      "cell_type": "markdown",
      "metadata": {
        "id": "3ysVsV7tMPUs"
      },
      "source": [
        "## Si richiede la individuazione e la correzione degli errori presenti"
      ]
    },
    {
      "cell_type": "code",
      "execution_count": 1,
      "metadata": {
        "id": "hSx8i3_tMPUx"
      },
      "outputs": [],
      "source": [
        "class Node:\n",
        "    data = ''\n",
        "    next = None\n",
        "    \n",
        "    def __init__(self, data, next):\n",
        "        self.data = data\n",
        "        self.next = next"
      ]
    },
    {
      "cell_type": "code",
      "execution_count": 16,
      "metadata": {
        "id": "6Kt3po-BMPUy"
      },
      "outputs": [],
      "source": [
        "class SinglyLinkedList:\n",
        "#    __head = None\n",
        "#    __tail = None\n",
        "    \n",
        "    def __init__(self):\n",
        "        self.__head = None\n",
        "        self.__tail = None\n",
        "        \n",
        "    def append(self, newNode):\n",
        "        if self.__head == None:          # se la lista è vuota ...\n",
        "            self.__head = newNode\n",
        "            self.__tail = newNode\n",
        "            newNode.next = None\n",
        "        else:                            # altrimenti ...\n",
        "            self.__tail.next = newNode\n",
        "            self.__tail = newNode\n",
        "            self.__tail.next=None\n",
        "        \n",
        "    def insert_head(self, newNode):\n",
        "        if self.__head == None:          # se la lista è vuota ...\n",
        "            self.__head = newNode\n",
        "            self.__tail = newNode\n",
        "            self.__tail=None\n",
        "            newNode.next = None\n",
        "        else:                            # altrimenti ...\n",
        "            newNode.next = self.__head\n",
        "            self.__head = newNode\n",
        "        \n",
        "    def insert_position(self, insertPosition, newNode):\n",
        "        p = self.__head\n",
        "        i = 0\n",
        "        # Spostiamo il puntatore p nella posizione di inserimento\n",
        "        while p != None and i < insertPosition - 1: \n",
        "            p = p.next\n",
        "            i = i +1\n",
        "        newNode.next = p.next\n",
        "        p.next = newNode\n",
        "        \n",
        "    def delete(self, deletePosition):\n",
        "        p = self.__head\n",
        "        if p != None:\n",
        "            if deletePosition == 0:\n",
        "                self.__head = p.next\n",
        "                p.next = None\n",
        "            else:        \n",
        "                i = 0\n",
        "                # Spostiamo il puntatore sul nodo immediatamente precedente \n",
        "                # a quello che vogliamo rimuovere\n",
        "                while p.next != None and i < (deletePosition - 1):\n",
        "                    p = p.next\n",
        "                    i += 1\n",
        "                q = p.next\n",
        "                p.next = q.next\n",
        "                q.next = None\n",
        "        else:\n",
        "            print('Lista vuota')\n",
        "            \n",
        "    def clear_list(self):\n",
        "        self.__head = None\n",
        "        self.__tail = None\n",
        "               \n",
        "    @property\n",
        "    def head(self):\n",
        "        return self.__head"
      ]
    },
    {
      "cell_type": "code",
      "execution_count": 3,
      "metadata": {
        "id": "DaxUhxCVMPU0"
      },
      "outputs": [],
      "source": [
        "def stampa_lista(node):\n",
        "    p = node\n",
        "    while p != None:\n",
        "        data = p.data\n",
        "        print(data, '->', end = ' ')\n",
        "        p = p.next\n",
        "    print('Fine Lista')"
      ]
    },
    {
      "cell_type": "code",
      "execution_count": 4,
      "metadata": {
        "id": "7OeKsCQnMPU0"
      },
      "outputs": [],
      "source": [
        "linkedlist = SinglyLinkedList()"
      ]
    },
    {
      "cell_type": "code",
      "execution_count": 5,
      "metadata": {
        "colab": {
          "base_uri": "https://localhost:8080/"
        },
        "id": "vbk-yfZ6MPU1",
        "outputId": "2610ddca-2ce5-4f17-9ff1-74ea5dd1408a"
      },
      "outputs": [
        {
          "output_type": "stream",
          "name": "stdout",
          "text": [
            "Fine Lista\n"
          ]
        }
      ],
      "source": [
        "# stampiamo la lista (che è ancora vuota)\n",
        "stampa_lista(linkedlist.head)"
      ]
    },
    {
      "cell_type": "code",
      "execution_count": 6,
      "metadata": {
        "id": "hRiQjjXwMPU1"
      },
      "outputs": [],
      "source": [
        "# popoliamo la lista linkedlist con vari nodi \n",
        "linkedlist.append(Node('A', None))\n",
        "linkedlist.append(Node('B', None))\n",
        "linkedlist.append(Node('C', None))\n",
        "linkedlist.append(Node('D', None))\n",
        "linkedlist.append(Node('B', None))"
      ]
    },
    {
      "cell_type": "code",
      "execution_count": 7,
      "metadata": {
        "colab": {
          "base_uri": "https://localhost:8080/"
        },
        "id": "dezeCxmIMPU2",
        "outputId": "0a4e42d8-2391-45a5-bc6a-bd1cdd5697d1"
      },
      "outputs": [
        {
          "output_type": "stream",
          "name": "stdout",
          "text": [
            "A -> B -> C -> D -> B -> Fine Lista\n"
          ]
        }
      ],
      "source": [
        "# stampiamo la lista\n",
        "stampa_lista(linkedlist.head)"
      ]
    },
    {
      "cell_type": "code",
      "execution_count": 8,
      "metadata": {
        "id": "t-PpzpHnMPU2"
      },
      "outputs": [],
      "source": [
        "# azzeriamo la lista\n",
        "linkedlist.clear_list()"
      ]
    },
    {
      "cell_type": "code",
      "execution_count": 9,
      "metadata": {
        "colab": {
          "base_uri": "https://localhost:8080/"
        },
        "id": "yzmIrpBNMPU3",
        "outputId": "d35dfecb-c017-4aa6-8b83-d1a95fdeadab"
      },
      "outputs": [
        {
          "output_type": "stream",
          "name": "stdout",
          "text": [
            "Fine Lista\n"
          ]
        }
      ],
      "source": [
        "# verifichiamo che la lista sia vuota\n",
        "stampa_lista(linkedlist.head)"
      ]
    },
    {
      "cell_type": "code",
      "execution_count": 10,
      "metadata": {
        "id": "GetTqaIdMPU3"
      },
      "outputs": [],
      "source": [
        "# definiamo alcuni nodi come istanze della classe Node\n",
        "n1 = Node('A', None)\n",
        "n2 = Node('B', None)\n",
        "n3 = Node('C', None)\n",
        "n4 = Node('D', None)"
      ]
    },
    {
      "cell_type": "code",
      "execution_count": 17,
      "metadata": {
        "id": "EbmlH_3WMPU4"
      },
      "outputs": [],
      "source": [
        "# popoliamo la lista linkedlist con i suddetti nodi\n",
        "linkedlist.append(n1)\n",
        "linkedlist.append(n2)\n",
        "linkedlist.append(n3)\n",
        "linkedlist.append(n4)\n",
        "linkedlist.append(n2)"
      ]
    }
  ],
  "metadata": {
    "kernelspec": {
      "display_name": "Python 3 (ipykernel)",
      "language": "python",
      "name": "python3"
    },
    "language_info": {
      "codemirror_mode": {
        "name": "ipython",
        "version": 3
      },
      "file_extension": ".py",
      "mimetype": "text/x-python",
      "name": "python",
      "nbconvert_exporter": "python",
      "pygments_lexer": "ipython3",
      "version": "3.7.7"
    },
    "colab": {
      "provenance": [],
      "include_colab_link": true
    }
  },
  "nbformat": 4,
  "nbformat_minor": 0
}