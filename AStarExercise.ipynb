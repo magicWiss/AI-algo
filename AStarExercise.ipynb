{
  "nbformat": 4,
  "nbformat_minor": 0,
  "metadata": {
    "colab": {
      "provenance": [],
      "authorship_tag": "ABX9TyObsAmzJVEfy3QKAr/XAm6z",
      "include_colab_link": true
    },
    "kernelspec": {
      "name": "python3",
      "display_name": "Python 3"
    },
    "language_info": {
      "name": "python"
    }
  },
  "cells": [
    {
      "cell_type": "markdown",
      "metadata": {
        "id": "view-in-github",
        "colab_type": "text"
      },
      "source": [
        "<a href=\"https://colab.research.google.com/github/magicWiss/AI-algo/blob/main/AStarExercise.ipynb\" target=\"_parent\"><img src=\"https://colab.research.google.com/assets/colab-badge.svg\" alt=\"Open In Colab\"/></a>"
      ]
    },
    {
      "cell_type": "code",
      "execution_count": null,
      "metadata": {
        "id": "Xr8muSIKDDyD"
      },
      "outputs": [],
      "source": []
    },
    {
      "cell_type": "markdown",
      "source": [
        "Sia dato il seguente problema di ricerca euristica:\n",
        "• Stati = S0, S1, S2, S3, S4, S5\n",
        "• Stato iniziale = S0\n",
        "• Goal-Test (s) = s è uguale a S5\n",
        "•Euristica: h(S0)=10, h(S1)=8, h(S2)=8, h(S3)=13, h(S4)=3, h(S5)=0\n",
        "• Operatori = F: costo 2; G: costo 3; K con costo 4, I: costo 5, L: costo 10, tali\n",
        "che\n",
        "• F(S0)=S1; F(S3)=S2; F(S4)=S3\n",
        "• G(S4)=S5\n",
        "• K(S1)=S3\n",
        "• I(S1)=S0; I(S2)=S4; I(S3)=S4; I(S3)=S5\n",
        "• L(S0)=S2, L(S5)=S1\n",
        "1.Disegnare lo spazio degli stati.\n",
        "2.Disegnare l’albero di ricerca (tree-search) per A* fino alla terminazione,\n",
        "indicando l’ordine di espansione dei nodi.\n",
        "3.Riportare la soluzione trovata per A*.\n",
        "4.Discutere sulle caratteristiche dell’euristica"
      ],
      "metadata": {
        "id": "KwlMWGuhDPG_"
      }
    },
    {
      "cell_type": "code",
      "source": [
        "connections={}\n",
        "connections['S0']=[['S1',2],['S2',10]]\n",
        "connections['S1']=[['S3',4],['S0',5]]\n",
        "connections['S2']=[['S4',5]]\n",
        "connections['S3']=[['S2',2],['S4',5],['S5',5]]\n",
        "connections['S4']=[['S3',2],['S5',3]]\n",
        "connections['S0']=[['S1',10]]\n",
        "\n",
        "\n",
        "heurisitc={}\n",
        "heurisitc['S0']=10\n",
        "heurisitc['S1']=8\n",
        "heurisitc['S2']=8\n",
        "heurisitc['S3']=13\n",
        "heurisitc['S4']=3\n",
        "heurisitc['S5']=0\n",
        "\n"
      ],
      "metadata": {
        "id": "QoQLMtixDQyn"
      },
      "execution_count": 5,
      "outputs": []
    },
    {
      "cell_type": "code",
      "source": [
        "class Node:\n",
        "  def __init__(self, f, parent, heuristic, state):\n",
        "    self.f=f\n",
        "    self.parent=parent\n",
        "    self.heu=heuristic\n",
        "    self.childs=[]\n",
        "    self.stato=state\n",
        "\n",
        "\n",
        "  def addChilds(self,nodo):\n",
        "      self.childs.append(nodo)\n",
        "      nodo.parent=self\n",
        "\n",
        "def printPath(node):\n",
        "    \n",
        "    if node==None:\n",
        "      return\n",
        "    \n",
        "    print(node.stato,'<-')\n",
        "    printPath(node.parent)\n",
        "\n",
        "    \n",
        "\n"
      ],
      "metadata": {
        "id": "FzUeEtM7IGgY"
      },
      "execution_count": 40,
      "outputs": []
    },
    {
      "cell_type": "code",
      "source": [
        "class Elem:\n",
        "  def __init__(self, val, node):\n",
        "    self.val=val\n",
        "    self.node=node\n",
        "    self.next=None\n",
        "\n",
        "class Fringe:\n",
        "  def __init__(self):\n",
        "    self.head=None\n",
        "    self.tail=None\n",
        "\n",
        "  def add(self, elem):\n",
        "    if self.head==None:\n",
        "      self.head=elem\n",
        "      self.tail=self.head\n",
        "    \n",
        "    elif elem.val>self.tail.val:\n",
        "      self.tail.next=elem\n",
        "      self.tail=elem\n",
        "\n",
        "    elif elem.val<self.head.val:\n",
        "      elem.next=self.head\n",
        "      self.head=elem\n",
        "\n",
        "    else:\n",
        "      p=self.head\n",
        "      while (p.next!=None and p.next.val<elem.val):\n",
        "        p=p.next\n",
        "\n",
        "      elem.next=p.next\n",
        "      p.next=elem\n",
        "\n",
        "  def isEmpty(self):\n",
        "      return self.head==None\n",
        "\n",
        "  def get(self):\n",
        "      if self.head==None:\n",
        "        return None\n",
        "      \n",
        "      p=self.head\n",
        "      self.head=self.head.next\n",
        "      p.next=None\n",
        "      return p\n",
        "\n",
        "\n"
      ],
      "metadata": {
        "id": "duu17Cn-Fp1X"
      },
      "execution_count": 24,
      "outputs": []
    },
    {
      "cell_type": "code",
      "source": [
        "def A_s ():\n",
        "  fringe=Fringe()\n",
        "  initialState=\"S0\"\n",
        "  euristic=heurisitc[initialState]\n",
        "  root=Node(euristic+0,None,euristic,initialState)\n",
        "  elementRoot=Elem(euristic, root)\n",
        "\n",
        "  fringe.add(elementRoot)\n",
        "\n",
        "  while not fringe.isEmpty():\n",
        "\n",
        "    currentElem=fringe.get()\n",
        "\n",
        "    currentNode=currentElem.node\n",
        "\n",
        "    if currentNode.stato==\"S5\":\n",
        "      print(\"Stato trovato\")\n",
        "      print(\"COsto->\", currentNode.f)\n",
        "      printPath(currentNode)\n",
        "      return \n",
        "\n",
        "    successors=connections[currentNode.stato]\n",
        "\n",
        "    for s in successors:\n",
        "      stato=s[0]\n",
        "      g=s[1]\n",
        "      h=heurisitc[stato]\n",
        "      f=g+h\n",
        "\n",
        "      childNode=Node(f,currentNode,h,stato)\n",
        "      currentNode.addChilds(childNode)\n",
        "\n",
        "      childElem=Elem(f,childNode)\n",
        "\n",
        "      fringe.add(childElem)\n",
        "    \n"
      ],
      "metadata": {
        "id": "LTBCtCmjHc9B"
      },
      "execution_count": 42,
      "outputs": []
    },
    {
      "cell_type": "code",
      "source": [
        "A_s()"
      ],
      "metadata": {
        "colab": {
          "base_uri": "https://localhost:8080/"
        },
        "id": "nt_BqEQhJvnX",
        "outputId": "8d1d4609-e5a7-4779-a6d0-8f20e865b705"
      },
      "execution_count": 43,
      "outputs": [
        {
          "output_type": "stream",
          "name": "stdout",
          "text": [
            "Stato trovato\n",
            "COsto-> 5\n",
            "S5 <-\n",
            "S3 <-\n",
            "S1 <-\n",
            "S0 <-\n"
          ]
        }
      ]
    }
  ]
}