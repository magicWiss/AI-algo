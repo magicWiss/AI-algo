{
  "cells": [
    {
      "cell_type": "markdown",
      "metadata": {
        "id": "view-in-github",
        "colab_type": "text"
      },
      "source": [
        "<a href=\"https://colab.research.google.com/github/magicWiss/AI-algo/blob/main/Notebook_28_Tabu_Search_per_n_Queens.ipynb\" target=\"_parent\"><img src=\"https://colab.research.google.com/assets/colab-badge.svg\" alt=\"Open In Colab\"/></a>"
      ]
    },
    {
      "cell_type": "markdown",
      "id": "6227972c",
      "metadata": {
        "id": "6227972c"
      },
      "source": [
        "# Tabu Search per Problema delle N Regine "
      ]
    },
    {
      "cell_type": "markdown",
      "id": "dea4d193",
      "metadata": {
        "id": "dea4d193"
      },
      "source": [
        "# Import"
      ]
    },
    {
      "cell_type": "code",
      "execution_count": null,
      "id": "2e99192a",
      "metadata": {
        "id": "2e99192a"
      },
      "outputs": [],
      "source": [
        "import random\n",
        "import numpy as np\n",
        "import copy"
      ]
    },
    {
      "cell_type": "markdown",
      "id": "62421e9b",
      "metadata": {
        "id": "62421e9b"
      },
      "source": [
        "## Inizializzazione stato"
      ]
    },
    {
      "cell_type": "code",
      "execution_count": null,
      "id": "b1d13dae",
      "metadata": {
        "id": "b1d13dae"
      },
      "outputs": [],
      "source": [
        "def inizializza(sol):\n",
        "    \n",
        "    # shake shake shake\n",
        "    for c in range(0,DIMENSIONE-1):\n",
        "        sol = tweak(sol)\n",
        "    return sol\n",
        "\n",
        "\n",
        "def tweak(sol):\n",
        "    \n",
        "    sol_copy = np.copy(sol)\n",
        "    \n",
        "    # scegli random due colonne distinte\n",
        "    x = random.randint(0,DIMENSIONE-1)\n",
        "    y = random.randint(0,DIMENSIONE-1)\n",
        "    while x==y:\n",
        "        y = random.randint(0,DIMENSIONE-1)\n",
        "        \n",
        "    # scambia le due colonne\n",
        "    temp = sol_copy[y]\n",
        "    sol_copy[y] = sol_copy[x] \n",
        "    sol_copy[x] = temp\n",
        "    \n",
        "    return sol_copy"
      ]
    },
    {
      "cell_type": "markdown",
      "id": "72ee3aea",
      "metadata": {
        "id": "72ee3aea"
      },
      "source": [
        "## Generazione Successori di uno Stato"
      ]
    },
    {
      "cell_type": "code",
      "execution_count": null,
      "id": "33138ba5",
      "metadata": {
        "id": "33138ba5"
      },
      "outputs": [],
      "source": [
        "def generazione_successori(stato): \n",
        "    \"\"\"\"\n",
        "    genera la lista ordinata di successori di uno stato\n",
        "    \"\"\"\"\"\n",
        "        \n",
        "    lista = []\n",
        "    t = len(stato)\n",
        "    \n",
        "    for i in range(0, t-1):\n",
        "        for j in range(i+1, t):\n",
        "            buffer = copy.deepcopy(stato)\n",
        "            temp = buffer[i]\n",
        "            buffer[i] = buffer[j]\n",
        "            buffer[j] = temp\n",
        "            eval_successore = eval_stato(buffer)\n",
        "            lista.append((buffer, eval_successore, (stato[i], stato[j])))  \n",
        "\n",
        "    lista.sort(key=lambda x: x[1])  # ordiniamo i successori in base alla loro valutazione eval_stato\n",
        "    return(lista)"
      ]
    },
    {
      "cell_type": "markdown",
      "id": "c260196d",
      "metadata": {
        "id": "c260196d"
      },
      "source": [
        "## Funzione per la Valutazione di uno Stato (calcolo attacchi)"
      ]
    },
    {
      "cell_type": "code",
      "execution_count": null,
      "id": "8f78d609",
      "metadata": {
        "id": "8f78d609"
      },
      "outputs": [],
      "source": [
        "def eval_stato(stato):\n",
        "    \n",
        "    # definizione della scacchiera N x N\n",
        "    board  = [[0] * DIMENSIONE for i in range(DIMENSIONE)] \n",
        "    \n",
        "    # inserimento delle regine ('Q') nelle loro posizioni sulla scacchiera\n",
        "    for i in range(0,DIMENSIONE):\n",
        "        board[stato[i]][i]='Q'\n",
        "        \n",
        "    # spostamenti possibili sulla scacchiera\n",
        "    dx = [-1,1,-1,1]\n",
        "    dy = [-1,1,1,-1]\n",
        "    \n",
        "    # inizializzazione numero di attacchi (diretti o indiretti)\n",
        "    conflitti = 0\n",
        "\n",
        "    for i in range(0,DIMENSIONE):\n",
        "        x=stato[i]\n",
        "        y=i\n",
        "        \n",
        "        # verifica attacchi sulle diagonali       \n",
        "        for j in range(0,4):\n",
        "            tempx = x\n",
        "            tempy = y\n",
        "            while (True):\n",
        "                tempx = tempx + dx[j]           # spostamento sull'asse x\n",
        "                tempy = tempy + dy[j]           # spostamento sull'asse y\n",
        "                if ((tempx < 0) or \n",
        "                    (tempx >= DIMENSIONE) or\n",
        "                    (tempy < 0) or \n",
        "                    (tempy >= DIMENSIONE)):\n",
        "                    break                       # si esce dal ciclo while se lo spostamento va fuori la scacchiera\n",
        "                if (board[tempx][tempy]=='Q'):\n",
        "                    conflitti = conflitti + 1   # aggiornamento numero di attacchi\n",
        "    return conflitti"
      ]
    },
    {
      "cell_type": "markdown",
      "id": "331703f0",
      "metadata": {
        "id": "331703f0"
      },
      "source": [
        "## Test Assenza Mossa nella Lista Tabu"
      ]
    },
    {
      "cell_type": "code",
      "execution_count": null,
      "id": "d8c99967",
      "metadata": {
        "id": "d8c99967"
      },
      "outputs": [],
      "source": [
        "def tabu_test(sequenza, tabu_list):    # è True se una mossa NON è presente nella tabu_list\n",
        "    \n",
        "    a, b = sequenza[2]\n",
        "    if ((a, b) in tabu_list or (b, a) in tabu_list):\n",
        "        assente = False\n",
        "    else:\n",
        "        assente = True\n",
        "    return(assente)"
      ]
    },
    {
      "cell_type": "markdown",
      "id": "5fd3bbb7",
      "metadata": {
        "id": "5fd3bbb7"
      },
      "source": [
        "## Stampa scacchiera"
      ]
    },
    {
      "cell_type": "code",
      "execution_count": null,
      "id": "c5ebc713",
      "metadata": {
        "id": "c5ebc713"
      },
      "outputs": [],
      "source": [
        "def stampa(sol):\n",
        "    \n",
        "    board = [[0] * DIMENSIONE for i in range(DIMENSIONE)] \n",
        "\n",
        "    for x in range(0,DIMENSIONE):\n",
        "        board[sol[x]][x]='Q'\n",
        "    print(\"SCACCHIERA\")\n",
        "    for x in range(0,DIMENSIONE):\n",
        "        for y in range(0,DIMENSIONE):\n",
        "            if(board[x][y]=='Q'):\n",
        "                print(\"Q   \",end=''),\n",
        "            else:\n",
        "                print(\".   \",end=''),\n",
        "        print(\"\\n\")\n",
        "    print(\"\\n\\n\")"
      ]
    },
    {
      "cell_type": "markdown",
      "id": "d8df7116",
      "metadata": {
        "id": "d8df7116"
      },
      "source": [
        "## Algoritmo Tabu Search"
      ]
    },
    {
      "cell_type": "code",
      "execution_count": null,
      "id": "e1a98e13",
      "metadata": {
        "id": "e1a98e13"
      },
      "outputs": [],
      "source": [
        "def tabu_search(tabu_tenure):\n",
        "    \n",
        "    # impostazione stato iniziale\n",
        "    stato = list(x for x in range(DIMENSIONE))   \n",
        "    current = inizializza(stato)\n",
        "    eval_current = eval_stato(current)\n",
        "    \n",
        "    # inizializzazione best\n",
        "    best = current\n",
        "    eval_best = eval_current\n",
        "        \n",
        "    tabu_list = {}\n",
        "    neighbours = []\n",
        "        \n",
        "    cont = 0\n",
        "    \n",
        "    # while not criterio_terminazione():\n",
        "    while (cont < 100 and eval_best != 0):\n",
        "            \n",
        "        # generazione successori (stato, eval_stato, mossa) e ordinamento su eval_stato\n",
        "        lista_successori = generazione_successori(current)\n",
        "        if cont == 0:\n",
        "            l = len(lista_successori)\n",
        "            print('Numero successori: ', l, '\\n')\n",
        "            \n",
        "        # selezione successori non tabu\n",
        "        neighbours = list(filter(lambda n: tabu_test(n, tabu_list), lista_successori))\n",
        "            \n",
        "        next_state = neighbours[0][0]         # selezione del migliore dei successori\n",
        "        eval_next_state = neighbours[0][1]\n",
        "        print(\"Iterazione \", cont, ':')\n",
        "        print('next_state: ', eval_next_state)\n",
        "        delta = eval_best - eval_next_state\n",
        "        if delta > 0:\n",
        "            best = next_state                 # aggiornamento di best\n",
        "            eval_best = eval_next_state       \n",
        "        current = next_state\n",
        "        eval_current = eval_next_state\n",
        "            \n",
        "        # decremento del tabu_tenure\n",
        "        for mossa in tabu_list:\n",
        "            tabu_list[mossa] = tabu_list[mossa] - 1\n",
        "                \n",
        "        # eliminazione elementi con tenure uguale a zero \n",
        "        tabu_list = {k: tabu_list[k] for k in tabu_list if tabu_list[k]!=0}   \n",
        "  \n",
        "        # inserimento della mossa di next nella tabu_list\n",
        "        mossa_next = neighbours[0][2]\n",
        "        tabu_list[mossa_next] = tabu_tenure\n",
        "        \n",
        "        print(\"best_eval =\", eval_best,)\n",
        "        print('mossa:', mossa_next)\n",
        "        print('tabu_list:', tabu_list, '\\n') \n",
        "            \n",
        "        cont += 1\n",
        "                \n",
        "    return(best, eval_best)"
      ]
    },
    {
      "cell_type": "code",
      "execution_count": null,
      "id": "6192cee7",
      "metadata": {
        "id": "6192cee7"
      },
      "outputs": [],
      "source": [
        "DIMENSIONE = 30   # dimensione dei lati della scacchiera N x N (dove N è la DIMENSIONE)"
      ]
    },
    {
      "cell_type": "code",
      "execution_count": null,
      "id": "68de9f37",
      "metadata": {
        "scrolled": true,
        "id": "68de9f37",
        "outputId": "5a74dd4b-c966-40d7-bba1-9666c551fa98"
      },
      "outputs": [
        {
          "name": "stdout",
          "output_type": "stream",
          "text": [
            "Numero successori:  435 \n",
            "\n",
            "Iterazione  0 :\n",
            "next_state:  46\n",
            "best_eval = 46\n",
            "mossa: (0, 16)\n",
            "tabu_list: {(0, 16): 5} \n",
            "\n",
            "Iterazione  1 :\n",
            "next_state:  32\n",
            "best_eval = 32\n",
            "mossa: (3, 9)\n",
            "tabu_list: {(0, 16): 4, (3, 9): 5} \n",
            "\n",
            "Iterazione  2 :\n",
            "next_state:  20\n",
            "best_eval = 20\n",
            "mossa: (17, 28)\n",
            "tabu_list: {(0, 16): 3, (3, 9): 4, (17, 28): 5} \n",
            "\n",
            "Iterazione  3 :\n",
            "next_state:  14\n",
            "best_eval = 14\n",
            "mossa: (4, 19)\n",
            "tabu_list: {(0, 16): 2, (3, 9): 3, (17, 28): 4, (4, 19): 5} \n",
            "\n",
            "Iterazione  4 :\n",
            "next_state:  10\n",
            "best_eval = 10\n",
            "mossa: (19, 24)\n",
            "tabu_list: {(0, 16): 1, (3, 9): 2, (17, 28): 3, (4, 19): 4, (19, 24): 5} \n",
            "\n",
            "Iterazione  5 :\n",
            "next_state:  6\n",
            "best_eval = 6\n",
            "mossa: (15, 26)\n",
            "tabu_list: {(3, 9): 1, (17, 28): 2, (4, 19): 3, (19, 24): 4, (15, 26): 5} \n",
            "\n",
            "Iterazione  6 :\n",
            "next_state:  4\n",
            "best_eval = 4\n",
            "mossa: (6, 10)\n",
            "tabu_list: {(17, 28): 1, (4, 19): 2, (19, 24): 3, (15, 26): 4, (6, 10): 5} \n",
            "\n",
            "Iterazione  7 :\n",
            "next_state:  2\n",
            "best_eval = 2\n",
            "mossa: (16, 26)\n",
            "tabu_list: {(4, 19): 1, (19, 24): 2, (15, 26): 3, (6, 10): 4, (16, 26): 5} \n",
            "\n",
            "Iterazione  8 :\n",
            "next_state:  0\n",
            "best_eval = 0\n",
            "mossa: (21, 4)\n",
            "tabu_list: {(19, 24): 1, (15, 26): 2, (6, 10): 3, (16, 26): 4, (21, 4): 5} \n",
            "\n"
          ]
        }
      ],
      "source": [
        "soluzione, conflitti = tabu_search(5)"
      ]
    },
    {
      "cell_type": "code",
      "execution_count": null,
      "id": "0fb6f8d2",
      "metadata": {
        "id": "0fb6f8d2",
        "outputId": "aeced47e-3a42-4261-e050-cae91f5967ba"
      },
      "outputs": [
        {
          "data": {
            "text/plain": [
              "array([26, 10, 12,  9, 24, 18,  3,  6, 25, 23, 14, 16,  8,  2, 15,  7,  0,\n",
              "       28, 20, 27,  1,  4, 22, 13, 17,  5, 29, 21, 19, 11])"
            ]
          },
          "execution_count": 10,
          "metadata": {},
          "output_type": "execute_result"
        }
      ],
      "source": [
        "soluzione"
      ]
    },
    {
      "cell_type": "code",
      "execution_count": null,
      "id": "4e40ede5",
      "metadata": {
        "id": "4e40ede5",
        "outputId": "28c594d4-f7c4-4352-e23a-c32d9ac4c074"
      },
      "outputs": [
        {
          "data": {
            "text/plain": [
              "0"
            ]
          },
          "execution_count": 11,
          "metadata": {},
          "output_type": "execute_result"
        }
      ],
      "source": [
        "conflitti"
      ]
    },
    {
      "cell_type": "code",
      "execution_count": null,
      "id": "0eafae5b",
      "metadata": {
        "id": "0eafae5b",
        "outputId": "412893fc-b5ad-4b20-a3cd-f3d4d012f165"
      },
      "outputs": [
        {
          "name": "stdout",
          "output_type": "stream",
          "text": [
            "SCACCHIERA\n",
            ".   .   .   .   .   .   .   .   .   .   .   .   .   .   .   .   Q   .   .   .   .   .   .   .   .   .   .   .   .   .   \n",
            "\n",
            ".   .   .   .   .   .   .   .   .   .   .   .   .   .   .   .   .   .   .   .   Q   .   .   .   .   .   .   .   .   .   \n",
            "\n",
            ".   .   .   .   .   .   .   .   .   .   .   .   .   Q   .   .   .   .   .   .   .   .   .   .   .   .   .   .   .   .   \n",
            "\n",
            ".   .   .   .   .   .   Q   .   .   .   .   .   .   .   .   .   .   .   .   .   .   .   .   .   .   .   .   .   .   .   \n",
            "\n",
            ".   .   .   .   .   .   .   .   .   .   .   .   .   .   .   .   .   .   .   .   .   Q   .   .   .   .   .   .   .   .   \n",
            "\n",
            ".   .   .   .   .   .   .   .   .   .   .   .   .   .   .   .   .   .   .   .   .   .   .   .   .   Q   .   .   .   .   \n",
            "\n",
            ".   .   .   .   .   .   .   Q   .   .   .   .   .   .   .   .   .   .   .   .   .   .   .   .   .   .   .   .   .   .   \n",
            "\n",
            ".   .   .   .   .   .   .   .   .   .   .   .   .   .   .   Q   .   .   .   .   .   .   .   .   .   .   .   .   .   .   \n",
            "\n",
            ".   .   .   .   .   .   .   .   .   .   .   .   Q   .   .   .   .   .   .   .   .   .   .   .   .   .   .   .   .   .   \n",
            "\n",
            ".   .   .   Q   .   .   .   .   .   .   .   .   .   .   .   .   .   .   .   .   .   .   .   .   .   .   .   .   .   .   \n",
            "\n",
            ".   Q   .   .   .   .   .   .   .   .   .   .   .   .   .   .   .   .   .   .   .   .   .   .   .   .   .   .   .   .   \n",
            "\n",
            ".   .   .   .   .   .   .   .   .   .   .   .   .   .   .   .   .   .   .   .   .   .   .   .   .   .   .   .   .   Q   \n",
            "\n",
            ".   .   Q   .   .   .   .   .   .   .   .   .   .   .   .   .   .   .   .   .   .   .   .   .   .   .   .   .   .   .   \n",
            "\n",
            ".   .   .   .   .   .   .   .   .   .   .   .   .   .   .   .   .   .   .   .   .   .   .   Q   .   .   .   .   .   .   \n",
            "\n",
            ".   .   .   .   .   .   .   .   .   .   Q   .   .   .   .   .   .   .   .   .   .   .   .   .   .   .   .   .   .   .   \n",
            "\n",
            ".   .   .   .   .   .   .   .   .   .   .   .   .   .   Q   .   .   .   .   .   .   .   .   .   .   .   .   .   .   .   \n",
            "\n",
            ".   .   .   .   .   .   .   .   .   .   .   Q   .   .   .   .   .   .   .   .   .   .   .   .   .   .   .   .   .   .   \n",
            "\n",
            ".   .   .   .   .   .   .   .   .   .   .   .   .   .   .   .   .   .   .   .   .   .   .   .   Q   .   .   .   .   .   \n",
            "\n",
            ".   .   .   .   .   Q   .   .   .   .   .   .   .   .   .   .   .   .   .   .   .   .   .   .   .   .   .   .   .   .   \n",
            "\n",
            ".   .   .   .   .   .   .   .   .   .   .   .   .   .   .   .   .   .   .   .   .   .   .   .   .   .   .   .   Q   .   \n",
            "\n",
            ".   .   .   .   .   .   .   .   .   .   .   .   .   .   .   .   .   .   Q   .   .   .   .   .   .   .   .   .   .   .   \n",
            "\n",
            ".   .   .   .   .   .   .   .   .   .   .   .   .   .   .   .   .   .   .   .   .   .   .   .   .   .   .   Q   .   .   \n",
            "\n",
            ".   .   .   .   .   .   .   .   .   .   .   .   .   .   .   .   .   .   .   .   .   .   Q   .   .   .   .   .   .   .   \n",
            "\n",
            ".   .   .   .   .   .   .   .   .   Q   .   .   .   .   .   .   .   .   .   .   .   .   .   .   .   .   .   .   .   .   \n",
            "\n",
            ".   .   .   .   Q   .   .   .   .   .   .   .   .   .   .   .   .   .   .   .   .   .   .   .   .   .   .   .   .   .   \n",
            "\n",
            ".   .   .   .   .   .   .   .   Q   .   .   .   .   .   .   .   .   .   .   .   .   .   .   .   .   .   .   .   .   .   \n",
            "\n",
            "Q   .   .   .   .   .   .   .   .   .   .   .   .   .   .   .   .   .   .   .   .   .   .   .   .   .   .   .   .   .   \n",
            "\n",
            ".   .   .   .   .   .   .   .   .   .   .   .   .   .   .   .   .   .   .   Q   .   .   .   .   .   .   .   .   .   .   \n",
            "\n",
            ".   .   .   .   .   .   .   .   .   .   .   .   .   .   .   .   .   Q   .   .   .   .   .   .   .   .   .   .   .   .   \n",
            "\n",
            ".   .   .   .   .   .   .   .   .   .   .   .   .   .   .   .   .   .   .   .   .   .   .   .   .   .   Q   .   .   .   \n",
            "\n",
            "\n",
            "\n",
            "\n"
          ]
        }
      ],
      "source": [
        "stampa(soluzione)"
      ]
    },
    {
      "cell_type": "code",
      "execution_count": null,
      "id": "2a5c9b78",
      "metadata": {
        "id": "2a5c9b78"
      },
      "outputs": [],
      "source": []
    }
  ],
  "metadata": {
    "kernelspec": {
      "display_name": "Python 3 (ipykernel)",
      "language": "python",
      "name": "python3"
    },
    "language_info": {
      "codemirror_mode": {
        "name": "ipython",
        "version": 3
      },
      "file_extension": ".py",
      "mimetype": "text/x-python",
      "name": "python",
      "nbconvert_exporter": "python",
      "pygments_lexer": "ipython3",
      "version": "3.7.7"
    },
    "colab": {
      "provenance": [],
      "include_colab_link": true
    }
  },
  "nbformat": 4,
  "nbformat_minor": 5
}