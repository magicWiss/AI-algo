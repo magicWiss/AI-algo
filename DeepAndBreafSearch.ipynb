{
  "nbformat": 4,
  "nbformat_minor": 0,
  "metadata": {
    "colab": {
      "provenance": [],
      "authorship_tag": "ABX9TyMTLMo163itCjc50Rg7q6X5",
      "include_colab_link": true
    },
    "kernelspec": {
      "name": "python3",
      "display_name": "Python 3"
    },
    "language_info": {
      "name": "python"
    }
  },
  "cells": [
    {
      "cell_type": "markdown",
      "metadata": {
        "id": "view-in-github",
        "colab_type": "text"
      },
      "source": [
        "<a href=\"https://colab.research.google.com/github/magicWiss/AI-algo/blob/main/DeepAndBreafSearch.ipynb\" target=\"_parent\"><img src=\"https://colab.research.google.com/assets/colab-badge.svg\" alt=\"Open In Colab\"/></a>"
      ]
    },
    {
      "cell_type": "code",
      "execution_count": 17,
      "metadata": {
        "id": "fv48D_xJt_MP"
      },
      "outputs": [],
      "source": [
        "tree={}\n",
        "tree['1']={'2','3','4'}\n",
        "tree['2']={'5','6'}\n",
        "tree['6']={'10','11'}\n",
        "tree['3']={'7'}\n",
        "tree['4']={'8','9'}\n",
        "tree['7']={'12','13'}\n",
        "\n",
        "tree['5']={}\n",
        "tree['6']={}\n",
        "tree['10']={}\n",
        "tree['11']={}\n",
        "tree['12']={}\n",
        "tree['13']={}\n",
        "tree['8']={}\n",
        "tree['9']={}\n",
        "\n",
        "\n",
        "\n",
        "\n"
      ]
    },
    {
      "cell_type": "code",
      "source": [
        "class Element:\n",
        "\n",
        "  def __init__(self,val):\n",
        "    self.val=val\n",
        "    self.next=None\n",
        "\n",
        "\n",
        "class Fringe:\n",
        "\n",
        "  def __init__(self):\n",
        "    self.head=None\n",
        "    self.tail=None\n",
        "\n",
        "  def addTail(self, elem):\n",
        "    if self.head==None:\n",
        "      self.head=elem\n",
        "      self.tail=self.head\n",
        "\n",
        "    else:\n",
        "      self.tail.next=elem\n",
        "      elem.next=None\n",
        "      self.tail=elem\n",
        "\n",
        "  def addFront(self, elem):\n",
        "    if self.head==None:\n",
        "      self.head=elem\n",
        "      self.tail=self.head\n",
        "\n",
        "    else:\n",
        "      elem.next=self.head\n",
        "      self.head=elem\n",
        "\n",
        "  def extract(self):\n",
        "\n",
        "    if self.head==None:\n",
        "      return None\n",
        "\n",
        "    p=self.head\n",
        "    self.head=self.head.next\n",
        "    p.next=None\n",
        "\n",
        "    return p\n",
        "\n",
        "  def isEmpty(self):\n",
        "    return self.head==None"
      ],
      "metadata": {
        "id": "FnYi1QmWuia9"
      },
      "execution_count": 12,
      "outputs": []
    },
    {
      "cell_type": "code",
      "source": [
        "def deepSearch():\n",
        "\n",
        "  elem=Element('1')\n",
        "  fringe=Fringe()\n",
        "  fringe.addFront(elem)\n",
        "\n",
        "  percorso=''\n",
        "  while not fringe.isEmpty():\n",
        "    elem=fringe.extract()\n",
        "    percorso=percorso+'-'+elem.val\n",
        "    \n",
        "\n",
        "    successors=tree[elem.val]\n",
        "    if successors!=None:\n",
        "      for s in successors:\n",
        "        element=Element(s)\n",
        "        fringe.addFront(element)\n",
        "        \n",
        "  print(percorso)"
      ],
      "metadata": {
        "id": "Wyiznc7HvjWt"
      },
      "execution_count": 23,
      "outputs": []
    },
    {
      "cell_type": "code",
      "source": [
        "def whidthSearch():\n",
        "\n",
        "  elem=Element('1')\n",
        "  fringe=Fringe()\n",
        "  fringe.addFront(elem)\n",
        "\n",
        "  percorso=''\n",
        "  while not fringe.isEmpty():\n",
        "    elem=fringe.extract()\n",
        "    percorso=percorso+'-'+elem.val\n",
        "    \n",
        "\n",
        "    successors=tree[elem.val]\n",
        "    if successors!=None:\n",
        "      for s in successors:\n",
        "        element=Element(s)\n",
        "        fringe.addTail(element)\n",
        "\n",
        "  print(percorso)"
      ],
      "metadata": {
        "id": "chcKpBqwwi7_"
      },
      "execution_count": 26,
      "outputs": []
    },
    {
      "cell_type": "code",
      "source": [
        "deepSearch()"
      ],
      "metadata": {
        "colab": {
          "base_uri": "https://localhost:8080/"
        },
        "id": "zXY6wPKVwnDg",
        "outputId": "2565e8be-5525-4d99-ca6e-f1b818568017"
      },
      "execution_count": 24,
      "outputs": [
        {
          "output_type": "stream",
          "name": "stdout",
          "text": [
            "-1-2-5-6-4-8-9-3-7-12-13\n"
          ]
        }
      ]
    },
    {
      "cell_type": "code",
      "source": [
        "whidthSearch()"
      ],
      "metadata": {
        "colab": {
          "base_uri": "https://localhost:8080/"
        },
        "id": "jTey9UdYyEuw",
        "outputId": "69f47ff2-651c-4acc-f677-13f2d77ef2ad"
      },
      "execution_count": 27,
      "outputs": [
        {
          "output_type": "stream",
          "name": "stdout",
          "text": [
            "-1-3-4-2-7-9-8-6-5-13-12\n"
          ]
        }
      ]
    }
  ]
}